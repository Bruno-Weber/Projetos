{
  "nbformat": 4,
  "nbformat_minor": 0,
  "metadata": {
    "colab": {
      "provenance": []
    },
    "kernelspec": {
      "name": "python3",
      "display_name": "Python 3"
    },
    "language_info": {
      "name": "python"
    }
  },
  "cells": [
    {
      "cell_type": "code",
      "execution_count": null,
      "metadata": {
        "colab": {
          "base_uri": "https://localhost:8080/"
        },
        "id": "HJhFqDOp07t7",
        "outputId": "62a7182c-616b-4883-f80c-c39dea826c7b"
      },
      "outputs": [
        {
          "output_type": "stream",
          "name": "stdout",
          "text": [
            "        Candidato Nº de Votos Porcentagem\n",
            "0            LULA    56047441       48,09\n",
            "1  JAIR BOLSONARO    50678241       43,49\n",
            "2    SIMONE TEBET     4883444        4,19\n",
            "3      CIRO GOMES     3556324        3,05\n"
          ]
        }
      ],
      "source": [
        "\n",
        "import requests\n",
        "import json\n",
        "import pandas as pd\n",
        "\n",
        "data = requests.get(\n",
        "    'https://resultados.tse.jus.br/oficial/ele2022/544/dados-simplificados/br/br-c0001-e000544-r.json')\n",
        "\n",
        "json_data = json.loads(data.content)\n",
        "\n",
        "candidato = []\n",
        "partido = []\n",
        "votos = []\n",
        "porcentagem = []\n",
        "\n",
        "for informacoes in json_data['cand']:\n",
        "    \n",
        "    if informacoes['seq'] in ['1', '2', '3', '4']:\n",
        "        candidato.append(informacoes['nm'])\n",
        "        votos.append(informacoes['vap'])\n",
        "        porcentagem.append(informacoes['pvap'])\n",
        "        \n",
        "df_eleicao = pd.DataFrame(list(zip(candidato, votos, porcentagem)), columns = [\n",
        "    'Candidato', 'Nº de Votos', 'Porcentagem'\n",
        "])\n",
        "\n",
        "print(df_eleicao)"
      ]
    }
  ]
}